{
 "cells": [
  {
   "cell_type": "code",
   "execution_count": 1,
   "metadata": {},
   "outputs": [],
   "source": [
    "import ujson as json\n",
    "import csv\n",
    "from tqdm import tqdm\n",
    "\n",
    "def flatten_json(obj):\n",
    "    flat = {}\n",
    "    for key, value in obj.items():\n",
    "        if isinstance(value, dict):\n",
    "            flat.update(value)\n",
    "        else:\n",
    "            flat[key] = value\n",
    "    return flat"
   ]
  },
  {
   "cell_type": "code",
   "execution_count": 2,
   "metadata": {},
   "outputs": [],
   "source": [
    "def extract_headers(input_file):\n",
    "\n",
    "    headers = set()\n",
    "    with open(input_file, 'r', encoding='utf-8') as f:\n",
    "        for line in tqdm(f, desc=\"Scanning for headers\"):\n",
    "            try:\n",
    "                data = json.loads(line)\n",
    "                flat = flatten_json(data)\n",
    "                headers.update(flat.keys())\n",
    "            except Exception as e:\n",
    "                continue \n",
    "    return sorted(headers)\n"
   ]
  },
  {
   "cell_type": "code",
   "execution_count": 3,
   "metadata": {},
   "outputs": [],
   "source": [
    "def write_csv(input_file, output_file, headers):\n",
    "\n",
    "    with open(input_file, 'r', encoding='utf-8') as infile, \\\n",
    "         open(output_file, 'w', newline='', encoding='utf-8') as outfile:\n",
    "        \n",
    "        writer = csv.DictWriter(outfile, fieldnames=headers, extrasaction='ignore')\n",
    "        writer.writeheader()\n",
    "\n",
    "        for line in tqdm(infile, desc=\"Writing to CSV\"):\n",
    "            try:\n",
    "                data = json.loads(line)\n",
    "                flat = flatten_json(data)\n",
    "                writer.writerow(flat)\n",
    "            except Exception:\n",
    "                continue "
   ]
  },
  {
   "cell_type": "code",
   "execution_count": 4,
   "metadata": {},
   "outputs": [
    {
     "name": "stderr",
     "output_type": "stream",
     "text": [
      "Scanning for headers: 50264531it [05:15, 159488.02it/s]"
     ]
    },
    {
     "name": "stdout",
     "output_type": "stream",
     "text": [
      "['author', 'business service (e.g., internet access)', 'check in / front desk', 'cleanliness', 'date', 'hotel_url', 'location', 'rating', 'rooms', 'service', 'sleep quality', 'text', 'title', 'ur_question.prompt.11', 'userrating.prompt.190', 'userrating.prompt.46', 'userrating.prompt.48', 'value']\n"
     ]
    },
    {
     "name": "stderr",
     "output_type": "stream",
     "text": [
      "\n"
     ]
    }
   ],
   "source": [
    "\n",
    "input_file = \"/Users/spartan/Downloads/HotelRec.txt\"\n",
    "output_file = \"/Users/spartan/Desktop/Hotel_Recommendation_System/data/raw/HotelDataset.csv\"\n",
    "\n",
    "\n",
    "# Extract headers\n",
    "headers = extract_headers(input_file)\n",
    "print(headers)\n",
    "\n",
    "\n",
    "\n"
   ]
  },
  {
   "cell_type": "code",
   "execution_count": 5,
   "metadata": {},
   "outputs": [
    {
     "name": "stderr",
     "output_type": "stream",
     "text": [
      "Writing to CSV: 50264531it [18:32, 45169.82it/s]"
     ]
    },
    {
     "name": "stdout",
     "output_type": "stream",
     "text": [
      "Conversion complete!\n"
     ]
    },
    {
     "name": "stderr",
     "output_type": "stream",
     "text": [
      "\n"
     ]
    }
   ],
   "source": [
    "write_csv(input_file, output_file, headers)\n",
    "\n",
    "print(\"Conversion complete!\")"
   ]
  }
 ],
 "metadata": {
  "kernelspec": {
   "display_name": "Python 3",
   "language": "python",
   "name": "python3"
  },
  "language_info": {
   "codemirror_mode": {
    "name": "ipython",
    "version": 3
   },
   "file_extension": ".py",
   "mimetype": "text/x-python",
   "name": "python",
   "nbconvert_exporter": "python",
   "pygments_lexer": "ipython3",
   "version": "3.12.6"
  }
 },
 "nbformat": 4,
 "nbformat_minor": 2
}
