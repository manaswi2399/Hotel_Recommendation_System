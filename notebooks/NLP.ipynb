{
 "cells": [
  {
   "cell_type": "code",
   "execution_count": null,
   "metadata": {},
   "outputs": [],
   "source": [
    "import pandas as pd\n",
    "\n",
    "df = pd.read_csv(\"/home/018171153/Hotel_Recommendation_System/Hotel_Recommendation_System/data/processed/Train.csv\", usecols=[\"text\"])\n",
    "df = df.dropna().sample(n=1000000, random_state=42)\n",
    "df[\"text\"] = df[\"text\"].str.lower()"
   ]
  },
  {
   "cell_type": "code",
   "execution_count": 12,
   "metadata": {},
   "outputs": [
    {
     "name": "stderr",
     "output_type": "stream",
     "text": [
      "[nltk_data] Downloading package stopwords to\n",
      "[nltk_data]     /home/018171153/nltk_data...\n",
      "[nltk_data]   Package stopwords is already up-to-date!\n"
     ]
    },
    {
     "name": "stdout",
     "output_type": "stream",
     "text": [
      "Top 300 words:\n",
      " ['also' 'always' 'amazing' 'area' 'around' 'away' 'back' 'bar' 'bathroom'\n",
      " 'beach' 'beautiful' 'bed' 'beds' 'best' 'better' 'bit' 'booked'\n",
      " 'breakfast' 'check' 'clean' 'close' 'comfortable' 'could' 'day'\n",
      " 'definitely' 'desk' 'even' 'every' 'everything' 'excellent' 'experience'\n",
      " 'family' 'first' 'floor' 'food' 'found' 'free' 'friendly' 'front' 'get'\n",
      " 'go' 'good' 'got' 'great' 'helpful' 'hot' 'hotel' 'large' 'like' 'little'\n",
      " 'location' 'lovely' 'made' 'make' 'many' 'morning' 'much' 'need' 'next'\n",
      " 'nice' 'night' 'nights' 'old' 'one' 'people' 'perfect' 'place' 'pool'\n",
      " 'price' 'quiet' 'quite' 'really' 'recommend' 'resort' 'restaurant'\n",
      " 'restaurants' 'right' 'room' 'rooms' 'see' 'service' 'shower' 'small'\n",
      " 'staff' 'stay' 'stayed' 'time' 'town' 'trip' 'two' 'us' 'view' 'walk'\n",
      " 'want' 'water' 'way' 'well' 'went' 'wonderful' 'would']\n"
     ]
    }
   ],
   "source": [
    "\n",
    "from sklearn.feature_extraction.text import CountVectorizer\n",
    "from nltk.corpus import stopwords\n",
    "import nltk\n",
    "\n",
    "\n",
    "nltk.download(\"stopwords\")\n",
    "stop_words = list(stopwords.words(\"english\"))\n",
    "\n",
    "# Extract top 100 meaningful words\n",
    "vectorizer = CountVectorizer(stop_words=stop_words, max_features=100)\n",
    "X = vectorizer.fit_transform(df[\"text\"])\n",
    "\n",
    "Get the top keywords\n",
    "top_words = vectorizer.get_feature_names_out()\n",
    "\n",
    "print(\"Top 100 words:\\n\", top_words)\n"
   ]
  },
  {
   "cell_type": "code",
   "execution_count": 15,
   "metadata": {},
   "outputs": [],
   "source": [
    "!pip3 install -q sentence-transformers transformers scikit-multilearn"
   ]
  },
  {
   "cell_type": "code",
   "execution_count": null,
   "metadata": {},
   "outputs": [],
   "source": [
    "import torch\n",
    "from sentence_transformers import SentenceTransformer, util\n",
    "from tqdm import tqdm\n",
    "import numpy as np\n",
    "\n",
    "\n",
    "topics = [\n",
    "    \"room quality\",\n",
    "    \"location\",\n",
    "    \"staff service\",\n",
    "    \"cleanliness\",\n",
    "    \"amenities\",\n",
    "    \"value for money\",\n",
    "    \"food and restaurant\",\n",
    "    \"noise level\",\n",
    "    \"comfort\"\n",
    "]\n",
    "#Load pre-downloaded model\n",
    "model = SentenceTransformer(\"/home/018171153/Hotel_Recommendation_System/Hotel_Recommendation_System/model/model/\")\n",
    "\n",
    "# Precompute topic embeddings\n",
    "topic_embeddings = model.encode(topics, convert_to_tensor=True)\n",
    "\n",
    "\n",
    "for topic in topics:\n",
    "    df[\"has_\" + topic.replace(\" \", \"_\")] = 0\n",
    "\n",
    "# Filtering empty text reviews\n",
    "df[\"text\"] = df[\"text\"].fillna(\"\")\n",
    "valid_idx = df[df[\"text\"].str.strip() != \"\"].index.tolist()\n",
    "texts = df.loc[valid_idx, \"text\"].tolist()\n",
    "\n",
    "# Batch processing\n",
    "BATCH_SIZE = 256 \n",
    "THRESHOLD = 0.4\n",
    "\n",
    "all_preds = []\n",
    "\n",
    "for start_idx in tqdm(range(0, len(texts), BATCH_SIZE)):\n",
    "    batch_texts = texts[start_idx:start_idx+BATCH_SIZE]\n",
    "    batch_embeddings = model.encode(batch_texts, convert_to_tensor=True)\n",
    "    cosine_scores = util.cos_sim(batch_embeddings, topic_embeddings)\n",
    "\n",
    "    \n",
    "    batch_pred = (cosine_scores > THRESHOLD).cpu().numpy()\n",
    "    all_preds.append(batch_pred)\n",
    "\n",
    "\n",
    "all_preds = np.vstack(all_preds)\n",
    "\n",
    "\n",
    "for i, idx in enumerate(valid_idx):\n",
    "    for j, topic in enumerate(topics):\n",
    "        df.at[idx, \"has_\" + topic.replace(\" \", \"_\")] = int(all_preds[i, j])\n",
    "\n",
    "\n",
    "df.to_csv(\"/home/018171153/Hotel_Recommendation_System/Hotel_Recommendation_System/data/processed/Train_with_topics.csv\", index=False)\n",
    "\n"
   ]
  }
 ],
 "metadata": {
  "kernelspec": {
   "display_name": "Python 3.10 HPC",
   "language": "python",
   "name": "python310_hpc"
  },
  "language_info": {
   "codemirror_mode": {
    "name": "ipython",
    "version": 3
   },
   "file_extension": ".py",
   "mimetype": "text/x-python",
   "name": "python",
   "nbconvert_exporter": "python",
   "pygments_lexer": "ipython3",
   "version": "3.10.8"
  }
 },
 "nbformat": 4,
 "nbformat_minor": 2
}
